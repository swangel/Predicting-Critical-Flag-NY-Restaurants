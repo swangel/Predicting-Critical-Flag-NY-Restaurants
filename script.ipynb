{
 "cells": [
  {
   "cell_type": "code",
   "execution_count": 82,
   "metadata": {},
   "outputs": [],
   "source": [
    "import numpy as np\n",
    "import pandas as pd\n",
    "import matplotlib.pyplot as plt\n",
    "%matplotlib inline\n",
    "\n",
    "from sklearn.preprocessing import Imputer, MinMaxScaler\n",
    "from sklearn.model_selection import train_test_split\n",
    "from sklearn.ensemble import RandomForestClassifier\n",
    "from sklearn.metrics import accuracy_score\n",
    "from sklearn.metrics import confusion_matrix\n",
    "from sklearn.preprocessing import OneHotEncoder"
   ]
  },
  {
   "cell_type": "code",
   "execution_count": 48,
   "metadata": {},
   "outputs": [],
   "source": [
    "#read data into dataframe\n",
    "data = pd.read_csv('train.csv')\n"
   ]
  },
  {
   "cell_type": "code",
   "execution_count": 49,
   "metadata": {},
   "outputs": [
    {
     "data": {
      "text/html": [
       "<div>\n",
       "<style scoped>\n",
       "    .dataframe tbody tr th:only-of-type {\n",
       "        vertical-align: middle;\n",
       "    }\n",
       "\n",
       "    .dataframe tbody tr th {\n",
       "        vertical-align: top;\n",
       "    }\n",
       "\n",
       "    .dataframe thead th {\n",
       "        text-align: right;\n",
       "    }\n",
       "</style>\n",
       "<table border=\"1\" class=\"dataframe\">\n",
       "  <thead>\n",
       "    <tr style=\"text-align: right;\">\n",
       "      <th></th>\n",
       "      <th>DBA</th>\n",
       "      <th>BORO</th>\n",
       "      <th>BUILDING</th>\n",
       "      <th>STREET</th>\n",
       "      <th>ZIPCODE</th>\n",
       "      <th>PHONE</th>\n",
       "      <th>CUISINE DESCRIPTION</th>\n",
       "      <th>INSPECTION DATE</th>\n",
       "      <th>ACTION</th>\n",
       "      <th>SCORE</th>\n",
       "      <th>GRADE</th>\n",
       "      <th>GRADE DATE</th>\n",
       "      <th>RECORD DATE</th>\n",
       "      <th>INSPECTION NO.</th>\n",
       "      <th>INSPECTION_TYPE</th>\n",
       "      <th>CRITICAL FLAG</th>\n",
       "      <th>CAMIS</th>\n",
       "    </tr>\n",
       "  </thead>\n",
       "  <tbody>\n",
       "    <tr>\n",
       "      <th>0</th>\n",
       "      <td>TACOSSSSSSS</td>\n",
       "      <td>BROOKLYN</td>\n",
       "      <td>3398</td>\n",
       "      <td>FULTON ST</td>\n",
       "      <td>11208.0</td>\n",
       "      <td>7182773780</td>\n",
       "      <td>Mexican</td>\n",
       "      <td>6/8/2016</td>\n",
       "      <td>Violations were cited in the following area(s).</td>\n",
       "      <td>89.0</td>\n",
       "      <td>NaN</td>\n",
       "      <td>NaN</td>\n",
       "      <td>8/28/2017</td>\n",
       "      <td>Initial Inspection</td>\n",
       "      <td>Pre-permit (Non-operational)</td>\n",
       "      <td>Critical</td>\n",
       "      <td>86566813</td>\n",
       "    </tr>\n",
       "    <tr>\n",
       "      <th>1</th>\n",
       "      <td>SPOLINI'S</td>\n",
       "      <td>QUEENS</td>\n",
       "      <td>11625</td>\n",
       "      <td>METROPOLITAN AVENUE</td>\n",
       "      <td>11418.0</td>\n",
       "      <td>7188055852</td>\n",
       "      <td>Italian</td>\n",
       "      <td>2/18/2016</td>\n",
       "      <td>Violations were cited in the following area(s).</td>\n",
       "      <td>23.0</td>\n",
       "      <td>NaN</td>\n",
       "      <td>NaN</td>\n",
       "      <td>8/28/2017</td>\n",
       "      <td>Initial Inspection</td>\n",
       "      <td>Cycle Inspection</td>\n",
       "      <td>Critical</td>\n",
       "      <td>84913823</td>\n",
       "    </tr>\n",
       "    <tr>\n",
       "      <th>2</th>\n",
       "      <td>EL DORADO CAFE</td>\n",
       "      <td>QUEENS</td>\n",
       "      <td>10202</td>\n",
       "      <td>ROOSEVELT AVENUE</td>\n",
       "      <td>11368.0</td>\n",
       "      <td>7184265992</td>\n",
       "      <td>Latin (Cuban, Dominican, Puerto Rican, South &amp;...</td>\n",
       "      <td>3/4/2015</td>\n",
       "      <td>Violations were cited in the following area(s).</td>\n",
       "      <td>7.0</td>\n",
       "      <td>A</td>\n",
       "      <td>3/4/2015</td>\n",
       "      <td>8/28/2017</td>\n",
       "      <td>Initial Inspection</td>\n",
       "      <td>Cycle Inspection</td>\n",
       "      <td>Critical</td>\n",
       "      <td>70749585</td>\n",
       "    </tr>\n",
       "    <tr>\n",
       "      <th>3</th>\n",
       "      <td>SANREMO PIZZA</td>\n",
       "      <td>QUEENS</td>\n",
       "      <td>5601</td>\n",
       "      <td>MYRTLE AVENUE</td>\n",
       "      <td>11385.0</td>\n",
       "      <td>7184971903</td>\n",
       "      <td>Pizza</td>\n",
       "      <td>12/4/2014</td>\n",
       "      <td>Violations were cited in the following area(s).</td>\n",
       "      <td>12.0</td>\n",
       "      <td>A</td>\n",
       "      <td>12/4/2014</td>\n",
       "      <td>8/28/2017</td>\n",
       "      <td>Initial Inspection</td>\n",
       "      <td>Cycle Inspection</td>\n",
       "      <td>Critical</td>\n",
       "      <td>59396548</td>\n",
       "    </tr>\n",
       "    <tr>\n",
       "      <th>4</th>\n",
       "      <td>95 SOUTH</td>\n",
       "      <td>BROOKLYN</td>\n",
       "      <td>778</td>\n",
       "      <td>FRANKLIN AVENUE</td>\n",
       "      <td>11238.0</td>\n",
       "      <td>3477506180</td>\n",
       "      <td>American</td>\n",
       "      <td>6/3/2017</td>\n",
       "      <td>Violations were cited in the following area(s).</td>\n",
       "      <td>11.0</td>\n",
       "      <td>NaN</td>\n",
       "      <td>NaN</td>\n",
       "      <td>8/28/2017</td>\n",
       "      <td>Initial Inspection</td>\n",
       "      <td>Inter-Agency Task Force</td>\n",
       "      <td>Not Critical</td>\n",
       "      <td>79915156</td>\n",
       "    </tr>\n",
       "  </tbody>\n",
       "</table>\n",
       "</div>"
      ],
      "text/plain": [
       "              DBA      BORO BUILDING               STREET  ZIPCODE  \\\n",
       "0     TACOSSSSSSS  BROOKLYN     3398            FULTON ST  11208.0   \n",
       "1       SPOLINI'S    QUEENS    11625  METROPOLITAN AVENUE  11418.0   \n",
       "2  EL DORADO CAFE    QUEENS    10202     ROOSEVELT AVENUE  11368.0   \n",
       "3   SANREMO PIZZA    QUEENS     5601        MYRTLE AVENUE  11385.0   \n",
       "4        95 SOUTH  BROOKLYN      778      FRANKLIN AVENUE  11238.0   \n",
       "\n",
       "        PHONE                                CUISINE DESCRIPTION  \\\n",
       "0  7182773780                                            Mexican   \n",
       "1  7188055852                                            Italian   \n",
       "2  7184265992  Latin (Cuban, Dominican, Puerto Rican, South &...   \n",
       "3  7184971903                                              Pizza   \n",
       "4  3477506180                                           American   \n",
       "\n",
       "  INSPECTION DATE                                           ACTION  SCORE  \\\n",
       "0        6/8/2016  Violations were cited in the following area(s).   89.0   \n",
       "1       2/18/2016  Violations were cited in the following area(s).   23.0   \n",
       "2        3/4/2015  Violations were cited in the following area(s).    7.0   \n",
       "3       12/4/2014  Violations were cited in the following area(s).   12.0   \n",
       "4        6/3/2017  Violations were cited in the following area(s).   11.0   \n",
       "\n",
       "  GRADE GRADE DATE RECORD DATE       INSPECTION NO.  \\\n",
       "0   NaN        NaN   8/28/2017   Initial Inspection   \n",
       "1   NaN        NaN   8/28/2017   Initial Inspection   \n",
       "2     A   3/4/2015   8/28/2017   Initial Inspection   \n",
       "3     A  12/4/2014   8/28/2017   Initial Inspection   \n",
       "4   NaN        NaN   8/28/2017   Initial Inspection   \n",
       "\n",
       "                 INSPECTION_TYPE CRITICAL FLAG     CAMIS  \n",
       "0  Pre-permit (Non-operational)       Critical  86566813  \n",
       "1              Cycle Inspection       Critical  84913823  \n",
       "2              Cycle Inspection       Critical  70749585  \n",
       "3              Cycle Inspection       Critical  59396548  \n",
       "4       Inter-Agency Task Force   Not Critical  79915156  "
      ]
     },
     "execution_count": 49,
     "metadata": {},
     "output_type": "execute_result"
    }
   ],
   "source": [
    "data.head()"
   ]
  },
  {
   "cell_type": "code",
   "execution_count": 50,
   "metadata": {},
   "outputs": [
    {
     "name": "stdout",
     "output_type": "stream",
     "text": [
      "<class 'pandas.core.frame.DataFrame'>\n",
      "RangeIndex: 215955 entries, 0 to 215954\n",
      "Data columns (total 17 columns):\n",
      "DBA                    215763 non-null object\n",
      "BORO                   215955 non-null object\n",
      "BUILDING               215890 non-null object\n",
      "STREET                 215949 non-null object\n",
      "ZIPCODE                215949 non-null float64\n",
      "PHONE                  215951 non-null object\n",
      "CUISINE DESCRIPTION    215955 non-null object\n",
      "INSPECTION DATE        215955 non-null object\n",
      "ACTION                 215342 non-null object\n",
      "SCORE                  203548 non-null float64\n",
      "GRADE                  105650 non-null object\n",
      "GRADE DATE             104257 non-null object\n",
      "RECORD DATE            215955 non-null object\n",
      "INSPECTION NO.         215342 non-null object\n",
      "INSPECTION_TYPE        215955 non-null object\n",
      "CRITICAL FLAG          215955 non-null object\n",
      "CAMIS                  215955 non-null int64\n",
      "dtypes: float64(2), int64(1), object(14)\n",
      "memory usage: 28.0+ MB\n"
     ]
    }
   ],
   "source": [
    "data.info()"
   ]
  },
  {
   "cell_type": "code",
   "execution_count": 51,
   "metadata": {},
   "outputs": [
    {
     "data": {
      "text/plain": [
       "Index(['DBA', 'BORO', 'BUILDING', 'STREET', 'ZIPCODE', 'PHONE',\n",
       "       'CUISINE DESCRIPTION', 'INSPECTION DATE', 'ACTION', 'SCORE', 'GRADE',\n",
       "       'GRADE DATE', 'RECORD DATE', 'INSPECTION NO.', 'INSPECTION_TYPE',\n",
       "       'CRITICAL FLAG', 'CAMIS'],\n",
       "      dtype='object')"
      ]
     },
     "execution_count": 51,
     "metadata": {},
     "output_type": "execute_result"
    }
   ],
   "source": [
    "data.columns"
   ]
  },
  {
   "cell_type": "markdown",
   "metadata": {},
   "source": [
    "Missing Values"
   ]
  },
  {
   "cell_type": "code",
   "execution_count": 52,
   "metadata": {},
   "outputs": [],
   "source": [
    "# Function to calculate missing values by column\n",
    "def missing_values_table(df):\n",
    "        # Total missing values\n",
    "        mis_val = df.isnull().sum()\n",
    "        \n",
    "        # Percentage of missing values\n",
    "        mis_val_percent = 100 * df.isnull().sum() / len(df)\n",
    "        \n",
    "        # Make a table with the results\n",
    "        mis_val_table = pd.concat([mis_val, mis_val_percent], axis=1)\n",
    "        \n",
    "        # Rename the columns\n",
    "        mis_val_table_ren_columns = mis_val_table.rename(\n",
    "        columns = {0 : 'Missing Values', 1 : '% of Total Values'})\n",
    "        \n",
    "        # Sort the table by percentage of missing descending\n",
    "        mis_val_table_ren_columns = mis_val_table_ren_columns[\n",
    "            mis_val_table_ren_columns.iloc[:,1] != 0].sort_values(\n",
    "        '% of Total Values', ascending=False).round(1)\n",
    "        \n",
    "        # Print some summary information\n",
    "        print (\"Your selected dataframe has \" + str(df.shape[1]) + \" columns.\\n\"      \n",
    "            \"There are \" + str(mis_val_table_ren_columns.shape[0]) +\n",
    "              \" columns that have missing values.\")\n",
    "        \n",
    "        # Return the dataframe with missing information\n",
    "        return mis_val_table_ren_columns"
   ]
  },
  {
   "cell_type": "code",
   "execution_count": 53,
   "metadata": {},
   "outputs": [
    {
     "name": "stdout",
     "output_type": "stream",
     "text": [
      "Your selected dataframe has 17 columns.\n",
      "There are 10 columns that have missing values.\n"
     ]
    },
    {
     "data": {
      "text/html": [
       "<div>\n",
       "<style scoped>\n",
       "    .dataframe tbody tr th:only-of-type {\n",
       "        vertical-align: middle;\n",
       "    }\n",
       "\n",
       "    .dataframe tbody tr th {\n",
       "        vertical-align: top;\n",
       "    }\n",
       "\n",
       "    .dataframe thead th {\n",
       "        text-align: right;\n",
       "    }\n",
       "</style>\n",
       "<table border=\"1\" class=\"dataframe\">\n",
       "  <thead>\n",
       "    <tr style=\"text-align: right;\">\n",
       "      <th></th>\n",
       "      <th>Missing Values</th>\n",
       "      <th>% of Total Values</th>\n",
       "    </tr>\n",
       "  </thead>\n",
       "  <tbody>\n",
       "    <tr>\n",
       "      <th>GRADE DATE</th>\n",
       "      <td>111698</td>\n",
       "      <td>51.7</td>\n",
       "    </tr>\n",
       "    <tr>\n",
       "      <th>GRADE</th>\n",
       "      <td>110305</td>\n",
       "      <td>51.1</td>\n",
       "    </tr>\n",
       "    <tr>\n",
       "      <th>SCORE</th>\n",
       "      <td>12407</td>\n",
       "      <td>5.7</td>\n",
       "    </tr>\n",
       "    <tr>\n",
       "      <th>ACTION</th>\n",
       "      <td>613</td>\n",
       "      <td>0.3</td>\n",
       "    </tr>\n",
       "    <tr>\n",
       "      <th>INSPECTION NO.</th>\n",
       "      <td>613</td>\n",
       "      <td>0.3</td>\n",
       "    </tr>\n",
       "    <tr>\n",
       "      <th>DBA</th>\n",
       "      <td>192</td>\n",
       "      <td>0.1</td>\n",
       "    </tr>\n",
       "    <tr>\n",
       "      <th>BUILDING</th>\n",
       "      <td>65</td>\n",
       "      <td>0.0</td>\n",
       "    </tr>\n",
       "    <tr>\n",
       "      <th>STREET</th>\n",
       "      <td>6</td>\n",
       "      <td>0.0</td>\n",
       "    </tr>\n",
       "    <tr>\n",
       "      <th>ZIPCODE</th>\n",
       "      <td>6</td>\n",
       "      <td>0.0</td>\n",
       "    </tr>\n",
       "    <tr>\n",
       "      <th>PHONE</th>\n",
       "      <td>4</td>\n",
       "      <td>0.0</td>\n",
       "    </tr>\n",
       "  </tbody>\n",
       "</table>\n",
       "</div>"
      ],
      "text/plain": [
       "                Missing Values  % of Total Values\n",
       "GRADE DATE              111698               51.7\n",
       "GRADE                   110305               51.1\n",
       "SCORE                    12407                5.7\n",
       "ACTION                     613                0.3\n",
       "INSPECTION NO.             613                0.3\n",
       "DBA                        192                0.1\n",
       "BUILDING                    65                0.0\n",
       "STREET                       6                0.0\n",
       "ZIPCODE                      6                0.0\n",
       "PHONE                        4                0.0"
      ]
     },
     "execution_count": 53,
     "metadata": {},
     "output_type": "execute_result"
    }
   ],
   "source": [
    "missing_values_table(data)"
   ]
  },
  {
   "cell_type": "code",
   "execution_count": 54,
   "metadata": {},
   "outputs": [
    {
     "data": {
      "text/html": [
       "<div>\n",
       "<style scoped>\n",
       "    .dataframe tbody tr th:only-of-type {\n",
       "        vertical-align: middle;\n",
       "    }\n",
       "\n",
       "    .dataframe tbody tr th {\n",
       "        vertical-align: top;\n",
       "    }\n",
       "\n",
       "    .dataframe thead th {\n",
       "        text-align: right;\n",
       "    }\n",
       "</style>\n",
       "<table border=\"1\" class=\"dataframe\">\n",
       "  <thead>\n",
       "    <tr style=\"text-align: right;\">\n",
       "      <th></th>\n",
       "      <th>DBA</th>\n",
       "      <th>BORO</th>\n",
       "      <th>BUILDING</th>\n",
       "      <th>STREET</th>\n",
       "      <th>ZIPCODE</th>\n",
       "      <th>PHONE</th>\n",
       "      <th>CUISINE DESCRIPTION</th>\n",
       "      <th>INSPECTION DATE</th>\n",
       "      <th>ACTION</th>\n",
       "      <th>SCORE</th>\n",
       "      <th>GRADE</th>\n",
       "      <th>GRADE DATE</th>\n",
       "      <th>RECORD DATE</th>\n",
       "      <th>INSPECTION NO.</th>\n",
       "      <th>INSPECTION_TYPE</th>\n",
       "      <th>CRITICAL FLAG</th>\n",
       "      <th>CAMIS</th>\n",
       "    </tr>\n",
       "  </thead>\n",
       "  <tbody>\n",
       "    <tr>\n",
       "      <th>12</th>\n",
       "      <td>FRANKLIN HOTEL</td>\n",
       "      <td>MANHATTAN</td>\n",
       "      <td>164</td>\n",
       "      <td>EAST   87 STREET</td>\n",
       "      <td>10128.0</td>\n",
       "      <td>2123691000</td>\n",
       "      <td>Continental</td>\n",
       "      <td>4/29/2015</td>\n",
       "      <td>Violations were cited in the following area(s).</td>\n",
       "      <td>NaN</td>\n",
       "      <td>NaN</td>\n",
       "      <td>NaN</td>\n",
       "      <td>8/28/2017</td>\n",
       "      <td>Initial Inspection</td>\n",
       "      <td>Administrative Miscellaneous</td>\n",
       "      <td>Not Critical</td>\n",
       "      <td>54875330</td>\n",
       "    </tr>\n",
       "    <tr>\n",
       "      <th>21</th>\n",
       "      <td>RICHMOND COUNTY YACHT CLUB</td>\n",
       "      <td>STATEN ISLAND</td>\n",
       "      <td>142</td>\n",
       "      <td>MANSION AVENUE</td>\n",
       "      <td>10308.0</td>\n",
       "      <td>7183564120</td>\n",
       "      <td>American</td>\n",
       "      <td>10/30/2015</td>\n",
       "      <td>Violations were cited in the following area(s).</td>\n",
       "      <td>NaN</td>\n",
       "      <td>NaN</td>\n",
       "      <td>NaN</td>\n",
       "      <td>8/28/2017</td>\n",
       "      <td>Initial Inspection</td>\n",
       "      <td>Administrative Miscellaneous</td>\n",
       "      <td>Not Critical</td>\n",
       "      <td>46213624</td>\n",
       "    </tr>\n",
       "    <tr>\n",
       "      <th>28</th>\n",
       "      <td>CRISPIN'S HELL'S KITCHEN</td>\n",
       "      <td>MANHATTAN</td>\n",
       "      <td>764</td>\n",
       "      <td>10TH AVE</td>\n",
       "      <td>10019.0</td>\n",
       "      <td>2125860888</td>\n",
       "      <td>American</td>\n",
       "      <td>11/9/2016</td>\n",
       "      <td>Violations were cited in the following area(s).</td>\n",
       "      <td>NaN</td>\n",
       "      <td>NaN</td>\n",
       "      <td>NaN</td>\n",
       "      <td>8/28/2017</td>\n",
       "      <td>Initial Inspection</td>\n",
       "      <td>Administrative Miscellaneous</td>\n",
       "      <td>Not Critical</td>\n",
       "      <td>39546299</td>\n",
       "    </tr>\n",
       "    <tr>\n",
       "      <th>30</th>\n",
       "      <td>BELLA ROZA</td>\n",
       "      <td>QUEENS</td>\n",
       "      <td>6352</td>\n",
       "      <td>BOOTH STREET</td>\n",
       "      <td>11374.0</td>\n",
       "      <td>7182750777</td>\n",
       "      <td>Jewish/Kosher</td>\n",
       "      <td>12/22/2015</td>\n",
       "      <td>No violations were recorded at the time of thi...</td>\n",
       "      <td>NaN</td>\n",
       "      <td>NaN</td>\n",
       "      <td>NaN</td>\n",
       "      <td>8/28/2017</td>\n",
       "      <td>Re-inspection</td>\n",
       "      <td>Administrative Miscellaneous</td>\n",
       "      <td>Not Applicable</td>\n",
       "      <td>73056311</td>\n",
       "    </tr>\n",
       "    <tr>\n",
       "      <th>54</th>\n",
       "      <td>SILVER KRUST WEST INDIAN RESTAURANT</td>\n",
       "      <td>BROOKLYN</td>\n",
       "      <td>747</td>\n",
       "      <td>NOSTRAND AVENUE</td>\n",
       "      <td>11216.0</td>\n",
       "      <td>7186042076</td>\n",
       "      <td>Caribbean</td>\n",
       "      <td>9/24/2016</td>\n",
       "      <td>Violations were cited in the following area(s).</td>\n",
       "      <td>NaN</td>\n",
       "      <td>NaN</td>\n",
       "      <td>NaN</td>\n",
       "      <td>8/28/2017</td>\n",
       "      <td>Initial Inspection</td>\n",
       "      <td>Smoke-Free Air Act</td>\n",
       "      <td>Not Critical</td>\n",
       "      <td>78321923</td>\n",
       "    </tr>\n",
       "  </tbody>\n",
       "</table>\n",
       "</div>"
      ],
      "text/plain": [
       "                                    DBA           BORO BUILDING  \\\n",
       "12                       FRANKLIN HOTEL      MANHATTAN      164   \n",
       "21           RICHMOND COUNTY YACHT CLUB  STATEN ISLAND      142   \n",
       "28             CRISPIN'S HELL'S KITCHEN      MANHATTAN      764   \n",
       "30                           BELLA ROZA         QUEENS     6352   \n",
       "54  SILVER KRUST WEST INDIAN RESTAURANT       BROOKLYN      747   \n",
       "\n",
       "              STREET  ZIPCODE       PHONE CUISINE DESCRIPTION INSPECTION DATE  \\\n",
       "12  EAST   87 STREET  10128.0  2123691000         Continental       4/29/2015   \n",
       "21    MANSION AVENUE  10308.0  7183564120            American      10/30/2015   \n",
       "28          10TH AVE  10019.0  2125860888            American       11/9/2016   \n",
       "30      BOOTH STREET  11374.0  7182750777       Jewish/Kosher      12/22/2015   \n",
       "54   NOSTRAND AVENUE  11216.0  7186042076           Caribbean       9/24/2016   \n",
       "\n",
       "                                               ACTION  SCORE GRADE GRADE DATE  \\\n",
       "12    Violations were cited in the following area(s).    NaN   NaN        NaN   \n",
       "21    Violations were cited in the following area(s).    NaN   NaN        NaN   \n",
       "28    Violations were cited in the following area(s).    NaN   NaN        NaN   \n",
       "30  No violations were recorded at the time of thi...    NaN   NaN        NaN   \n",
       "54    Violations were cited in the following area(s).    NaN   NaN        NaN   \n",
       "\n",
       "   RECORD DATE       INSPECTION NO.                INSPECTION_TYPE  \\\n",
       "12   8/28/2017   Initial Inspection  Administrative Miscellaneous    \n",
       "21   8/28/2017   Initial Inspection  Administrative Miscellaneous    \n",
       "28   8/28/2017   Initial Inspection  Administrative Miscellaneous    \n",
       "30   8/28/2017        Re-inspection  Administrative Miscellaneous    \n",
       "54   8/28/2017   Initial Inspection            Smoke-Free Air Act    \n",
       "\n",
       "     CRITICAL FLAG     CAMIS  \n",
       "12    Not Critical  54875330  \n",
       "21    Not Critical  46213624  \n",
       "28    Not Critical  39546299  \n",
       "30  Not Applicable  73056311  \n",
       "54    Not Critical  78321923  "
      ]
     },
     "execution_count": 54,
     "metadata": {},
     "output_type": "execute_result"
    }
   ],
   "source": [
    "data[data['SCORE'].isnull()].head()"
   ]
  },
  {
   "cell_type": "code",
   "execution_count": 152,
   "metadata": {},
   "outputs": [
    {
     "data": {
      "text/plain": [
       "GRADE\n",
       "A                 83437\n",
       "B                 15187\n",
       "C                  3786\n",
       "Not Yet Graded     1398\n",
       "P                   696\n",
       "Z                  1146\n",
       "Name: CAMIS, dtype: int64"
      ]
     },
     "execution_count": 152,
     "metadata": {},
     "output_type": "execute_result"
    }
   ],
   "source": [
    "data.GRADE.unique()\n",
    "data.groupby('GRADE')['CAMIS'].nunique()\n"
   ]
  },
  {
   "cell_type": "code",
   "execution_count": 57,
   "metadata": {},
   "outputs": [
    {
     "data": {
      "text/plain": [
       "DBA                    1398\n",
       "BORO                   1398\n",
       "BUILDING               1398\n",
       "STREET                 1398\n",
       "ZIPCODE                1398\n",
       "PHONE                  1398\n",
       "CUISINE DESCRIPTION    1398\n",
       "INSPECTION DATE        1398\n",
       "ACTION                 1398\n",
       "SCORE                  1397\n",
       "GRADE                  1398\n",
       "GRADE DATE                5\n",
       "RECORD DATE            1398\n",
       "INSPECTION NO.         1398\n",
       "INSPECTION_TYPE        1398\n",
       "CRITICAL FLAG          1398\n",
       "CAMIS                  1398\n",
       "dtype: int64"
      ]
     },
     "execution_count": 57,
     "metadata": {},
     "output_type": "execute_result"
    }
   ],
   "source": [
    "data[data['GRADE'] == 'Not Yet Graded'].count()"
   ]
  },
  {
   "cell_type": "code",
   "execution_count": 156,
   "metadata": {},
   "outputs": [
    {
     "data": {
      "text/plain": [
       "RECORD DATE\n",
       "8/28/2017    215955\n",
       "Name: CAMIS, dtype: int64"
      ]
     },
     "execution_count": 156,
     "metadata": {},
     "output_type": "execute_result"
    }
   ],
   "source": [
    "data.groupby('RECORD DATE')['CAMIS'].nunique()"
   ]
  },
  {
   "cell_type": "code",
   "execution_count": 187,
   "metadata": {},
   "outputs": [
    {
     "data": {
      "text/plain": [
       "INSPECTION NO.\n",
       " Compliance Inspection             1557\n",
       " Initial Inspection              148906\n",
       " Limited Inspection                   1\n",
       " Re-inspection                    62719\n",
       " Reopening Inspection              2053\n",
       " Second Compliance Inspection       106\n",
       "Name: CAMIS, dtype: int64"
      ]
     },
     "execution_count": 187,
     "metadata": {},
     "output_type": "execute_result"
    }
   ],
   "source": [
    "data.groupby('INSPECTION NO.')['CAMIS'].nunique()\n"
   ]
  },
  {
   "cell_type": "code",
   "execution_count": 188,
   "metadata": {},
   "outputs": [
    {
     "data": {
      "text/plain": [
       "INSPECTION_TYPE\n",
       "Administrative Miscellaneous       5818\n",
       "Calorie Posting                     414\n",
       "Cycle Inspection                    613\n",
       "Cycle Inspection                 180612\n",
       "Inter-Agency Task Force             619\n",
       "Pre-permit (Non-operational)       2285\n",
       "Pre-permit (Operational)          20030\n",
       "Smoke-Free Air Act                 3129\n",
       "Trans Fat                          2435\n",
       "Name: CAMIS, dtype: int64"
      ]
     },
     "execution_count": 188,
     "metadata": {},
     "output_type": "execute_result"
    }
   ],
   "source": [
    "data.groupby('INSPECTION_TYPE')['CAMIS'].nunique()"
   ]
  },
  {
   "cell_type": "code",
   "execution_count": 190,
   "metadata": {},
   "outputs": [
    {
     "data": {
      "text/plain": [
       "231"
      ]
     },
     "execution_count": 190,
     "metadata": {},
     "output_type": "execute_result"
    }
   ],
   "source": [
    "data.groupby('ZIPCODE')['CAMIS'].nunique().count()"
   ]
  },
  {
   "cell_type": "code",
   "execution_count": 191,
   "metadata": {},
   "outputs": [
    {
     "data": {
      "text/plain": [
       "3272"
      ]
     },
     "execution_count": 191,
     "metadata": {},
     "output_type": "execute_result"
    }
   ],
   "source": [
    "data.groupby('STREET')['CAMIS'].nunique().count()"
   ]
  },
  {
   "cell_type": "code",
   "execution_count": 193,
   "metadata": {},
   "outputs": [
    {
     "data": {
      "text/plain": [
       "BORO\n",
       "BRONX            18802\n",
       "BROOKLYN         53768\n",
       "MANHATTAN        86228\n",
       "Missing              6\n",
       "QUEENS           49940\n",
       "STATEN ISLAND     7211\n",
       "Name: CAMIS, dtype: int64"
      ]
     },
     "execution_count": 193,
     "metadata": {},
     "output_type": "execute_result"
    }
   ],
   "source": [
    "data.groupby('BORO')['CAMIS'].nunique()"
   ]
  },
  {
   "cell_type": "code",
   "execution_count": null,
   "metadata": {},
   "outputs": [],
   "source": [
    "data.groupby('BORO')['CAMIS'].nunique()"
   ]
  },
  {
   "cell_type": "code",
   "execution_count": 58,
   "metadata": {},
   "outputs": [],
   "source": [
    "columns_to_drop = ['GRADE','GRADE DATE','RECORD DATE','PHONE','STREET','BUILDING']\n",
    "\n",
    "data.drop(labels = columns_to_drop,inplace=True,axis=1)"
   ]
  },
  {
   "cell_type": "code",
   "execution_count": 59,
   "metadata": {},
   "outputs": [
    {
     "name": "stdout",
     "output_type": "stream",
     "text": [
      "Your selected dataframe has 11 columns.\n",
      "There are 5 columns that have missing values.\n"
     ]
    },
    {
     "data": {
      "text/html": [
       "<div>\n",
       "<style scoped>\n",
       "    .dataframe tbody tr th:only-of-type {\n",
       "        vertical-align: middle;\n",
       "    }\n",
       "\n",
       "    .dataframe tbody tr th {\n",
       "        vertical-align: top;\n",
       "    }\n",
       "\n",
       "    .dataframe thead th {\n",
       "        text-align: right;\n",
       "    }\n",
       "</style>\n",
       "<table border=\"1\" class=\"dataframe\">\n",
       "  <thead>\n",
       "    <tr style=\"text-align: right;\">\n",
       "      <th></th>\n",
       "      <th>Missing Values</th>\n",
       "      <th>% of Total Values</th>\n",
       "    </tr>\n",
       "  </thead>\n",
       "  <tbody>\n",
       "    <tr>\n",
       "      <th>SCORE</th>\n",
       "      <td>12407</td>\n",
       "      <td>5.7</td>\n",
       "    </tr>\n",
       "    <tr>\n",
       "      <th>ACTION</th>\n",
       "      <td>613</td>\n",
       "      <td>0.3</td>\n",
       "    </tr>\n",
       "    <tr>\n",
       "      <th>INSPECTION NO.</th>\n",
       "      <td>613</td>\n",
       "      <td>0.3</td>\n",
       "    </tr>\n",
       "    <tr>\n",
       "      <th>DBA</th>\n",
       "      <td>192</td>\n",
       "      <td>0.1</td>\n",
       "    </tr>\n",
       "    <tr>\n",
       "      <th>ZIPCODE</th>\n",
       "      <td>6</td>\n",
       "      <td>0.0</td>\n",
       "    </tr>\n",
       "  </tbody>\n",
       "</table>\n",
       "</div>"
      ],
      "text/plain": [
       "                Missing Values  % of Total Values\n",
       "SCORE                    12407                5.7\n",
       "ACTION                     613                0.3\n",
       "INSPECTION NO.             613                0.3\n",
       "DBA                        192                0.1\n",
       "ZIPCODE                      6                0.0"
      ]
     },
     "execution_count": 59,
     "metadata": {},
     "output_type": "execute_result"
    }
   ],
   "source": [
    "missing_values_table(data)"
   ]
  },
  {
   "cell_type": "markdown",
   "metadata": {},
   "source": [
    "Exploratory Data Analysis"
   ]
  },
  {
   "cell_type": "code",
   "execution_count": 143,
   "metadata": {},
   "outputs": [
    {
     "data": {
      "text/plain": [
       "Violations were cited in the following area(s).                                                                                        205778\n",
       "Establishment Closed by DOHMH.  Violations were cited in the following area(s) and those requiring immediate action were addressed.      4917\n",
       "No violations were recorded at the time of this inspection.                                                                              2787\n",
       "Establishment re-opened by DOHMH                                                                                                         1411\n",
       "Establishment re-closed by DOHMH                                                                                                          449\n",
       "Name: ACTION, dtype: int64"
      ]
     },
     "execution_count": 143,
     "metadata": {},
     "output_type": "execute_result"
    }
   ],
   "source": [
    "data['INSPECTION NO.'].value_counts()\n",
    "data['ACTION'].value_counts()"
   ]
  },
  {
   "cell_type": "code",
   "execution_count": 62,
   "metadata": {},
   "outputs": [
    {
     "data": {
      "text/plain": [
       "15.0"
      ]
     },
     "execution_count": 62,
     "metadata": {},
     "output_type": "execute_result"
    }
   ],
   "source": [
    "data['SCORE'].median()"
   ]
  },
  {
   "cell_type": "code",
   "execution_count": 63,
   "metadata": {},
   "outputs": [
    {
     "name": "stdout",
     "output_type": "stream",
     "text": [
      "Your selected dataframe has 11 columns.\n",
      "There are 4 columns that have missing values.\n"
     ]
    },
    {
     "data": {
      "text/html": [
       "<div>\n",
       "<style scoped>\n",
       "    .dataframe tbody tr th:only-of-type {\n",
       "        vertical-align: middle;\n",
       "    }\n",
       "\n",
       "    .dataframe tbody tr th {\n",
       "        vertical-align: top;\n",
       "    }\n",
       "\n",
       "    .dataframe thead th {\n",
       "        text-align: right;\n",
       "    }\n",
       "</style>\n",
       "<table border=\"1\" class=\"dataframe\">\n",
       "  <thead>\n",
       "    <tr style=\"text-align: right;\">\n",
       "      <th></th>\n",
       "      <th>Missing Values</th>\n",
       "      <th>% of Total Values</th>\n",
       "    </tr>\n",
       "  </thead>\n",
       "  <tbody>\n",
       "    <tr>\n",
       "      <th>ACTION</th>\n",
       "      <td>613</td>\n",
       "      <td>0.3</td>\n",
       "    </tr>\n",
       "    <tr>\n",
       "      <th>INSPECTION NO.</th>\n",
       "      <td>613</td>\n",
       "      <td>0.3</td>\n",
       "    </tr>\n",
       "    <tr>\n",
       "      <th>DBA</th>\n",
       "      <td>192</td>\n",
       "      <td>0.1</td>\n",
       "    </tr>\n",
       "    <tr>\n",
       "      <th>ZIPCODE</th>\n",
       "      <td>6</td>\n",
       "      <td>0.0</td>\n",
       "    </tr>\n",
       "  </tbody>\n",
       "</table>\n",
       "</div>"
      ],
      "text/plain": [
       "                Missing Values  % of Total Values\n",
       "ACTION                     613                0.3\n",
       "INSPECTION NO.             613                0.3\n",
       "DBA                        192                0.1\n",
       "ZIPCODE                      6                0.0"
      ]
     },
     "execution_count": 63,
     "metadata": {},
     "output_type": "execute_result"
    }
   ],
   "source": [
    "data['SCORE'].replace(np.nan,data['SCORE'].median(),inplace = True)\n",
    "missing_values_table(data)\n"
   ]
  },
  {
   "cell_type": "code",
   "execution_count": 234,
   "metadata": {},
   "outputs": [
    {
     "data": {
      "text/html": [
       "<div>\n",
       "<style scoped>\n",
       "    .dataframe tbody tr th:only-of-type {\n",
       "        vertical-align: middle;\n",
       "    }\n",
       "\n",
       "    .dataframe tbody tr th {\n",
       "        vertical-align: top;\n",
       "    }\n",
       "\n",
       "    .dataframe thead th {\n",
       "        text-align: right;\n",
       "    }\n",
       "</style>\n",
       "<table border=\"1\" class=\"dataframe\">\n",
       "  <thead>\n",
       "    <tr style=\"text-align: right;\">\n",
       "      <th></th>\n",
       "      <th>DBA</th>\n",
       "      <th>BORO</th>\n",
       "      <th>ZIPCODE</th>\n",
       "      <th>CUISINE DESCRIPTION</th>\n",
       "      <th>INSPECTION DATE</th>\n",
       "      <th>ACTION</th>\n",
       "      <th>SCORE</th>\n",
       "      <th>INSPECTION NO.</th>\n",
       "      <th>INSPECTION_TYPE</th>\n",
       "      <th>CRITICAL FLAG</th>\n",
       "      <th>CAMIS</th>\n",
       "    </tr>\n",
       "  </thead>\n",
       "  <tbody>\n",
       "    <tr>\n",
       "      <th>3015</th>\n",
       "      <td>NaN</td>\n",
       "      <td>MANHATTAN</td>\n",
       "      <td>10029.0</td>\n",
       "      <td>Other</td>\n",
       "      <td>1/1/1900</td>\n",
       "      <td>NaN</td>\n",
       "      <td>18.902485</td>\n",
       "      <td>NaN</td>\n",
       "      <td>Cycle Inspection</td>\n",
       "      <td>Not Applicable</td>\n",
       "      <td>73013663</td>\n",
       "    </tr>\n",
       "    <tr>\n",
       "      <th>4056</th>\n",
       "      <td>NaN</td>\n",
       "      <td>BRONX</td>\n",
       "      <td>10452.0</td>\n",
       "      <td>Other</td>\n",
       "      <td>1/1/1900</td>\n",
       "      <td>NaN</td>\n",
       "      <td>18.902485</td>\n",
       "      <td>NaN</td>\n",
       "      <td>Cycle Inspection</td>\n",
       "      <td>Not Applicable</td>\n",
       "      <td>41164983</td>\n",
       "    </tr>\n",
       "    <tr>\n",
       "      <th>4614</th>\n",
       "      <td>NaN</td>\n",
       "      <td>STATEN ISLAND</td>\n",
       "      <td>10314.0</td>\n",
       "      <td>Other</td>\n",
       "      <td>1/1/1900</td>\n",
       "      <td>NaN</td>\n",
       "      <td>18.902485</td>\n",
       "      <td>NaN</td>\n",
       "      <td>Cycle Inspection</td>\n",
       "      <td>Not Applicable</td>\n",
       "      <td>80553405</td>\n",
       "    </tr>\n",
       "    <tr>\n",
       "      <th>4722</th>\n",
       "      <td>NaN</td>\n",
       "      <td>MANHATTAN</td>\n",
       "      <td>10021.0</td>\n",
       "      <td>Other</td>\n",
       "      <td>1/1/1900</td>\n",
       "      <td>NaN</td>\n",
       "      <td>18.902485</td>\n",
       "      <td>NaN</td>\n",
       "      <td>Cycle Inspection</td>\n",
       "      <td>Not Applicable</td>\n",
       "      <td>19043173</td>\n",
       "    </tr>\n",
       "    <tr>\n",
       "      <th>6202</th>\n",
       "      <td>NaN</td>\n",
       "      <td>MANHATTAN</td>\n",
       "      <td>10034.0</td>\n",
       "      <td>Other</td>\n",
       "      <td>1/1/1900</td>\n",
       "      <td>NaN</td>\n",
       "      <td>18.902485</td>\n",
       "      <td>NaN</td>\n",
       "      <td>Cycle Inspection</td>\n",
       "      <td>Not Applicable</td>\n",
       "      <td>29939040</td>\n",
       "    </tr>\n",
       "  </tbody>\n",
       "</table>\n",
       "</div>"
      ],
      "text/plain": [
       "      DBA           BORO  ZIPCODE CUISINE DESCRIPTION INSPECTION DATE ACTION  \\\n",
       "3015  NaN      MANHATTAN  10029.0               Other        1/1/1900    NaN   \n",
       "4056  NaN          BRONX  10452.0               Other        1/1/1900    NaN   \n",
       "4614  NaN  STATEN ISLAND  10314.0               Other        1/1/1900    NaN   \n",
       "4722  NaN      MANHATTAN  10021.0               Other        1/1/1900    NaN   \n",
       "6202  NaN      MANHATTAN  10034.0               Other        1/1/1900    NaN   \n",
       "\n",
       "          SCORE INSPECTION NO.   INSPECTION_TYPE   CRITICAL FLAG     CAMIS  \n",
       "3015  18.902485            NaN  Cycle Inspection  Not Applicable  73013663  \n",
       "4056  18.902485            NaN  Cycle Inspection  Not Applicable  41164983  \n",
       "4614  18.902485            NaN  Cycle Inspection  Not Applicable  80553405  \n",
       "4722  18.902485            NaN  Cycle Inspection  Not Applicable  19043173  \n",
       "6202  18.902485            NaN  Cycle Inspection  Not Applicable  29939040  "
      ]
     },
     "execution_count": 234,
     "metadata": {},
     "output_type": "execute_result"
    }
   ],
   "source": [
    "data[data['DBA'].isnull()]."
   ]
  },
  {
   "cell_type": "code",
   "execution_count": 10,
   "metadata": {},
   "outputs": [
    {
     "data": {
      "text/html": [
       "<div>\n",
       "<style scoped>\n",
       "    .dataframe tbody tr th:only-of-type {\n",
       "        vertical-align: middle;\n",
       "    }\n",
       "\n",
       "    .dataframe tbody tr th {\n",
       "        vertical-align: top;\n",
       "    }\n",
       "\n",
       "    .dataframe thead th {\n",
       "        text-align: right;\n",
       "    }\n",
       "</style>\n",
       "<table border=\"1\" class=\"dataframe\">\n",
       "  <thead>\n",
       "    <tr style=\"text-align: right;\">\n",
       "      <th></th>\n",
       "      <th>DBA</th>\n",
       "      <th>BORO</th>\n",
       "      <th>ZIPCODE</th>\n",
       "      <th>CUISINE DESCRIPTION</th>\n",
       "      <th>INSPECTION DATE</th>\n",
       "      <th>ACTION</th>\n",
       "      <th>SCORE</th>\n",
       "      <th>INSPECTION NO.</th>\n",
       "      <th>INSPECTION_TYPE</th>\n",
       "      <th>CRITICAL FLAG</th>\n",
       "      <th>CAMIS</th>\n",
       "    </tr>\n",
       "  </thead>\n",
       "  <tbody>\n",
       "    <tr>\n",
       "      <th>30</th>\n",
       "      <td>BELLA ROZA</td>\n",
       "      <td>QUEENS</td>\n",
       "      <td>11374.0</td>\n",
       "      <td>Jewish/Kosher</td>\n",
       "      <td>12/22/2015</td>\n",
       "      <td>No violations were recorded at the time of thi...</td>\n",
       "      <td>18.902485</td>\n",
       "      <td>Re-inspection</td>\n",
       "      <td>Administrative Miscellaneous</td>\n",
       "      <td>Not Applicable</td>\n",
       "      <td>73056311</td>\n",
       "    </tr>\n",
       "    <tr>\n",
       "      <th>72</th>\n",
       "      <td>LAS JAROCHITAS RESTAURANT</td>\n",
       "      <td>QUEENS</td>\n",
       "      <td>11372.0</td>\n",
       "      <td>Spanish</td>\n",
       "      <td>10/25/2015</td>\n",
       "      <td>No violations were recorded at the time of thi...</td>\n",
       "      <td>18.902485</td>\n",
       "      <td>Initial Inspection</td>\n",
       "      <td>Trans Fat</td>\n",
       "      <td>Not Applicable</td>\n",
       "      <td>70117835</td>\n",
       "    </tr>\n",
       "    <tr>\n",
       "      <th>101</th>\n",
       "      <td>STARBUCKS</td>\n",
       "      <td>MANHATTAN</td>\n",
       "      <td>10017.0</td>\n",
       "      <td>Café/Coffee/Tea</td>\n",
       "      <td>9/14/2015</td>\n",
       "      <td>Violations were cited in the following area(s).</td>\n",
       "      <td>0.000000</td>\n",
       "      <td>Initial Inspection</td>\n",
       "      <td>Cycle Inspection</td>\n",
       "      <td>Not Applicable</td>\n",
       "      <td>87356299</td>\n",
       "    </tr>\n",
       "    <tr>\n",
       "      <th>182</th>\n",
       "      <td>PAK LAHORI CHILLI</td>\n",
       "      <td>BROOKLYN</td>\n",
       "      <td>11230.0</td>\n",
       "      <td>Indian</td>\n",
       "      <td>6/26/2015</td>\n",
       "      <td>No violations were recorded at the time of thi...</td>\n",
       "      <td>18.902485</td>\n",
       "      <td>Initial Inspection</td>\n",
       "      <td>Administrative Miscellaneous</td>\n",
       "      <td>Not Applicable</td>\n",
       "      <td>48806695</td>\n",
       "    </tr>\n",
       "    <tr>\n",
       "      <th>240</th>\n",
       "      <td>LONG SPRING GARDEN</td>\n",
       "      <td>QUEENS</td>\n",
       "      <td>11377.0</td>\n",
       "      <td>Chinese</td>\n",
       "      <td>8/20/2015</td>\n",
       "      <td>Violations were cited in the following area(s).</td>\n",
       "      <td>11.000000</td>\n",
       "      <td>Re-inspection</td>\n",
       "      <td>Pre-permit (Operational)</td>\n",
       "      <td>Not Applicable</td>\n",
       "      <td>99192167</td>\n",
       "    </tr>\n",
       "  </tbody>\n",
       "</table>\n",
       "</div>"
      ],
      "text/plain": [
       "                           DBA       BORO  ZIPCODE CUISINE DESCRIPTION  \\\n",
       "30                  BELLA ROZA     QUEENS  11374.0       Jewish/Kosher   \n",
       "72   LAS JAROCHITAS RESTAURANT     QUEENS  11372.0             Spanish   \n",
       "101                  STARBUCKS  MANHATTAN  10017.0     Café/Coffee/Tea   \n",
       "182          PAK LAHORI CHILLI   BROOKLYN  11230.0              Indian   \n",
       "240         LONG SPRING GARDEN     QUEENS  11377.0             Chinese   \n",
       "\n",
       "    INSPECTION DATE                                             ACTION  \\\n",
       "30       12/22/2015  No violations were recorded at the time of thi...   \n",
       "72       10/25/2015  No violations were recorded at the time of thi...   \n",
       "101       9/14/2015    Violations were cited in the following area(s).   \n",
       "182       6/26/2015  No violations were recorded at the time of thi...   \n",
       "240       8/20/2015    Violations were cited in the following area(s).   \n",
       "\n",
       "         SCORE       INSPECTION NO.                INSPECTION_TYPE  \\\n",
       "30   18.902485        Re-inspection  Administrative Miscellaneous    \n",
       "72   18.902485   Initial Inspection                     Trans Fat    \n",
       "101   0.000000   Initial Inspection              Cycle Inspection    \n",
       "182  18.902485   Initial Inspection  Administrative Miscellaneous    \n",
       "240  11.000000        Re-inspection      Pre-permit (Operational)    \n",
       "\n",
       "      CRITICAL FLAG     CAMIS  \n",
       "30   Not Applicable  73056311  \n",
       "72   Not Applicable  70117835  \n",
       "101  Not Applicable  87356299  \n",
       "182  Not Applicable  48806695  \n",
       "240  Not Applicable  99192167  "
      ]
     },
     "execution_count": 10,
     "metadata": {},
     "output_type": "execute_result"
    }
   ],
   "source": [
    "data[data['CRITICAL FLAG'] == 'Not Applicable'].head()"
   ]
  },
  {
   "cell_type": "code",
   "execution_count": 11,
   "metadata": {},
   "outputs": [
    {
     "name": "stdout",
     "output_type": "stream",
     "text": [
      "Your selected dataframe has 11 columns.\n",
      "There are 4 columns that have missing values.\n"
     ]
    },
    {
     "data": {
      "text/html": [
       "<div>\n",
       "<style scoped>\n",
       "    .dataframe tbody tr th:only-of-type {\n",
       "        vertical-align: middle;\n",
       "    }\n",
       "\n",
       "    .dataframe tbody tr th {\n",
       "        vertical-align: top;\n",
       "    }\n",
       "\n",
       "    .dataframe thead th {\n",
       "        text-align: right;\n",
       "    }\n",
       "</style>\n",
       "<table border=\"1\" class=\"dataframe\">\n",
       "  <thead>\n",
       "    <tr style=\"text-align: right;\">\n",
       "      <th></th>\n",
       "      <th>Missing Values</th>\n",
       "      <th>% of Total Values</th>\n",
       "    </tr>\n",
       "  </thead>\n",
       "  <tbody>\n",
       "    <tr>\n",
       "      <th>ACTION</th>\n",
       "      <td>613</td>\n",
       "      <td>0.3</td>\n",
       "    </tr>\n",
       "    <tr>\n",
       "      <th>INSPECTION NO.</th>\n",
       "      <td>613</td>\n",
       "      <td>0.3</td>\n",
       "    </tr>\n",
       "    <tr>\n",
       "      <th>DBA</th>\n",
       "      <td>192</td>\n",
       "      <td>0.1</td>\n",
       "    </tr>\n",
       "    <tr>\n",
       "      <th>ZIPCODE</th>\n",
       "      <td>6</td>\n",
       "      <td>0.0</td>\n",
       "    </tr>\n",
       "  </tbody>\n",
       "</table>\n",
       "</div>"
      ],
      "text/plain": [
       "                Missing Values  % of Total Values\n",
       "ACTION                     613                0.3\n",
       "INSPECTION NO.             613                0.3\n",
       "DBA                        192                0.1\n",
       "ZIPCODE                      6                0.0"
      ]
     },
     "execution_count": 11,
     "metadata": {},
     "output_type": "execute_result"
    }
   ],
   "source": [
    "missing_values_table(data)"
   ]
  },
  {
   "cell_type": "code",
   "execution_count": 255,
   "metadata": {},
   "outputs": [
    {
     "data": {
      "text/html": [
       "<div>\n",
       "<style scoped>\n",
       "    .dataframe tbody tr th:only-of-type {\n",
       "        vertical-align: middle;\n",
       "    }\n",
       "\n",
       "    .dataframe tbody tr th {\n",
       "        vertical-align: top;\n",
       "    }\n",
       "\n",
       "    .dataframe thead th {\n",
       "        text-align: right;\n",
       "    }\n",
       "</style>\n",
       "<table border=\"1\" class=\"dataframe\">\n",
       "  <thead>\n",
       "    <tr style=\"text-align: right;\">\n",
       "      <th></th>\n",
       "      <th>DBA</th>\n",
       "      <th>BORO</th>\n",
       "      <th>ZIPCODE</th>\n",
       "      <th>CUISINE DESCRIPTION</th>\n",
       "      <th>INSPECTION DATE</th>\n",
       "      <th>ACTION</th>\n",
       "      <th>SCORE</th>\n",
       "      <th>INSPECTION NO.</th>\n",
       "      <th>INSPECTION_TYPE</th>\n",
       "      <th>CRITICAL FLAG</th>\n",
       "      <th>CAMIS</th>\n",
       "    </tr>\n",
       "  </thead>\n",
       "  <tbody>\n",
       "  </tbody>\n",
       "</table>\n",
       "</div>"
      ],
      "text/plain": [
       "Empty DataFrame\n",
       "Columns: [DBA, BORO, ZIPCODE, CUISINE DESCRIPTION, INSPECTION DATE, ACTION, SCORE, INSPECTION NO., INSPECTION_TYPE, CRITICAL FLAG, CAMIS]\n",
       "Index: []"
      ]
     },
     "execution_count": 255,
     "metadata": {},
     "output_type": "execute_result"
    }
   ],
   "source": [
    "data[data['ZIPCODE'].isnull()]"
   ]
  },
  {
   "cell_type": "code",
   "execution_count": 64,
   "metadata": {},
   "outputs": [],
   "source": [
    "data.drop(axis = 0,inplace = True,index=data[data['ZIPCODE'].isnull()].index)\n"
   ]
  },
  {
   "cell_type": "code",
   "execution_count": 72,
   "metadata": {},
   "outputs": [
    {
     "name": "stdout",
     "output_type": "stream",
     "text": [
      "<class 'pandas.core.frame.DataFrame'>\n",
      "Int64Index: 417 entries, 444 to 215691\n",
      "Data columns (total 11 columns):\n",
      "DBA                    417 non-null object\n",
      "BORO                   417 non-null object\n",
      "ZIPCODE                417 non-null float64\n",
      "CUISINE DESCRIPTION    417 non-null object\n",
      "INSPECTION DATE        417 non-null object\n",
      "ACTION                 417 non-null object\n",
      "SCORE                  417 non-null float64\n",
      "INSPECTION NO.         417 non-null object\n",
      "INSPECTION_TYPE        417 non-null object\n",
      "CRITICAL FLAG          417 non-null object\n",
      "CAMIS                  417 non-null int64\n",
      "dtypes: float64(2), int64(1), object(8)\n",
      "memory usage: 39.1+ KB\n"
     ]
    }
   ],
   "source": [
    "data[data['INSPECTION DATE']== '1/1/1900'].info()"
   ]
  },
  {
   "cell_type": "code",
   "execution_count": 14,
   "metadata": {},
   "outputs": [
    {
     "name": "stdout",
     "output_type": "stream",
     "text": [
      "<class 'pandas.core.frame.DataFrame'>\n",
      "Int64Index: 3659 entries, 30 to 215940\n",
      "Data columns (total 11 columns):\n",
      "DBA                    3469 non-null object\n",
      "BORO                   3659 non-null object\n",
      "ZIPCODE                3659 non-null float64\n",
      "CUISINE DESCRIPTION    3659 non-null object\n",
      "INSPECTION DATE        3659 non-null object\n",
      "ACTION                 3052 non-null object\n",
      "SCORE                  3659 non-null float64\n",
      "INSPECTION NO.         3052 non-null object\n",
      "INSPECTION_TYPE        3659 non-null object\n",
      "CRITICAL FLAG          3659 non-null object\n",
      "CAMIS                  3659 non-null int64\n",
      "dtypes: float64(2), int64(1), object(8)\n",
      "memory usage: 343.0+ KB\n"
     ]
    },
    {
     "data": {
      "text/html": [
       "<div>\n",
       "<style scoped>\n",
       "    .dataframe tbody tr th:only-of-type {\n",
       "        vertical-align: middle;\n",
       "    }\n",
       "\n",
       "    .dataframe tbody tr th {\n",
       "        vertical-align: top;\n",
       "    }\n",
       "\n",
       "    .dataframe thead th {\n",
       "        text-align: right;\n",
       "    }\n",
       "</style>\n",
       "<table border=\"1\" class=\"dataframe\">\n",
       "  <thead>\n",
       "    <tr style=\"text-align: right;\">\n",
       "      <th></th>\n",
       "      <th>DBA</th>\n",
       "      <th>BORO</th>\n",
       "      <th>ZIPCODE</th>\n",
       "      <th>CUISINE DESCRIPTION</th>\n",
       "      <th>INSPECTION DATE</th>\n",
       "      <th>ACTION</th>\n",
       "      <th>SCORE</th>\n",
       "      <th>INSPECTION NO.</th>\n",
       "      <th>INSPECTION_TYPE</th>\n",
       "      <th>CRITICAL FLAG</th>\n",
       "      <th>CAMIS</th>\n",
       "    </tr>\n",
       "  </thead>\n",
       "  <tbody>\n",
       "    <tr>\n",
       "      <th>30</th>\n",
       "      <td>BELLA ROZA</td>\n",
       "      <td>QUEENS</td>\n",
       "      <td>11374.0</td>\n",
       "      <td>Jewish/Kosher</td>\n",
       "      <td>12/22/2015</td>\n",
       "      <td>No violations were recorded at the time of thi...</td>\n",
       "      <td>18.902485</td>\n",
       "      <td>Re-inspection</td>\n",
       "      <td>Administrative Miscellaneous</td>\n",
       "      <td>Not Applicable</td>\n",
       "      <td>73056311</td>\n",
       "    </tr>\n",
       "    <tr>\n",
       "      <th>72</th>\n",
       "      <td>LAS JAROCHITAS RESTAURANT</td>\n",
       "      <td>QUEENS</td>\n",
       "      <td>11372.0</td>\n",
       "      <td>Spanish</td>\n",
       "      <td>10/25/2015</td>\n",
       "      <td>No violations were recorded at the time of thi...</td>\n",
       "      <td>18.902485</td>\n",
       "      <td>Initial Inspection</td>\n",
       "      <td>Trans Fat</td>\n",
       "      <td>Not Applicable</td>\n",
       "      <td>70117835</td>\n",
       "    </tr>\n",
       "    <tr>\n",
       "      <th>101</th>\n",
       "      <td>STARBUCKS</td>\n",
       "      <td>MANHATTAN</td>\n",
       "      <td>10017.0</td>\n",
       "      <td>Café/Coffee/Tea</td>\n",
       "      <td>9/14/2015</td>\n",
       "      <td>Violations were cited in the following area(s).</td>\n",
       "      <td>0.000000</td>\n",
       "      <td>Initial Inspection</td>\n",
       "      <td>Cycle Inspection</td>\n",
       "      <td>Not Applicable</td>\n",
       "      <td>87356299</td>\n",
       "    </tr>\n",
       "    <tr>\n",
       "      <th>182</th>\n",
       "      <td>PAK LAHORI CHILLI</td>\n",
       "      <td>BROOKLYN</td>\n",
       "      <td>11230.0</td>\n",
       "      <td>Indian</td>\n",
       "      <td>6/26/2015</td>\n",
       "      <td>No violations were recorded at the time of thi...</td>\n",
       "      <td>18.902485</td>\n",
       "      <td>Initial Inspection</td>\n",
       "      <td>Administrative Miscellaneous</td>\n",
       "      <td>Not Applicable</td>\n",
       "      <td>48806695</td>\n",
       "    </tr>\n",
       "    <tr>\n",
       "      <th>240</th>\n",
       "      <td>LONG SPRING GARDEN</td>\n",
       "      <td>QUEENS</td>\n",
       "      <td>11377.0</td>\n",
       "      <td>Chinese</td>\n",
       "      <td>8/20/2015</td>\n",
       "      <td>Violations were cited in the following area(s).</td>\n",
       "      <td>11.000000</td>\n",
       "      <td>Re-inspection</td>\n",
       "      <td>Pre-permit (Operational)</td>\n",
       "      <td>Not Applicable</td>\n",
       "      <td>99192167</td>\n",
       "    </tr>\n",
       "  </tbody>\n",
       "</table>\n",
       "</div>"
      ],
      "text/plain": [
       "                           DBA       BORO  ZIPCODE CUISINE DESCRIPTION  \\\n",
       "30                  BELLA ROZA     QUEENS  11374.0       Jewish/Kosher   \n",
       "72   LAS JAROCHITAS RESTAURANT     QUEENS  11372.0             Spanish   \n",
       "101                  STARBUCKS  MANHATTAN  10017.0     Café/Coffee/Tea   \n",
       "182          PAK LAHORI CHILLI   BROOKLYN  11230.0              Indian   \n",
       "240         LONG SPRING GARDEN     QUEENS  11377.0             Chinese   \n",
       "\n",
       "    INSPECTION DATE                                             ACTION  \\\n",
       "30       12/22/2015  No violations were recorded at the time of thi...   \n",
       "72       10/25/2015  No violations were recorded at the time of thi...   \n",
       "101       9/14/2015    Violations were cited in the following area(s).   \n",
       "182       6/26/2015  No violations were recorded at the time of thi...   \n",
       "240       8/20/2015    Violations were cited in the following area(s).   \n",
       "\n",
       "         SCORE       INSPECTION NO.                INSPECTION_TYPE  \\\n",
       "30   18.902485        Re-inspection  Administrative Miscellaneous    \n",
       "72   18.902485   Initial Inspection                     Trans Fat    \n",
       "101   0.000000   Initial Inspection              Cycle Inspection    \n",
       "182  18.902485   Initial Inspection  Administrative Miscellaneous    \n",
       "240  11.000000        Re-inspection      Pre-permit (Operational)    \n",
       "\n",
       "      CRITICAL FLAG     CAMIS  \n",
       "30   Not Applicable  73056311  \n",
       "72   Not Applicable  70117835  \n",
       "101  Not Applicable  87356299  \n",
       "182  Not Applicable  48806695  \n",
       "240  Not Applicable  99192167  "
      ]
     },
     "execution_count": 14,
     "metadata": {},
     "output_type": "execute_result"
    }
   ],
   "source": [
    "data[data['CRITICAL FLAG']== 'Not Applicable'].info()\n",
    "data[data['CRITICAL FLAG']== 'Not Applicable'].head()"
   ]
  },
  {
   "cell_type": "code",
   "execution_count": 265,
   "metadata": {},
   "outputs": [
    {
     "data": {
      "text/html": [
       "<div>\n",
       "<style scoped>\n",
       "    .dataframe tbody tr th:only-of-type {\n",
       "        vertical-align: middle;\n",
       "    }\n",
       "\n",
       "    .dataframe tbody tr th {\n",
       "        vertical-align: top;\n",
       "    }\n",
       "\n",
       "    .dataframe thead th {\n",
       "        text-align: right;\n",
       "    }\n",
       "</style>\n",
       "<table border=\"1\" class=\"dataframe\">\n",
       "  <thead>\n",
       "    <tr style=\"text-align: right;\">\n",
       "      <th></th>\n",
       "      <th>DBA</th>\n",
       "      <th>BORO</th>\n",
       "      <th>ZIPCODE</th>\n",
       "      <th>CUISINE DESCRIPTION</th>\n",
       "      <th>INSPECTION DATE</th>\n",
       "      <th>ACTION</th>\n",
       "      <th>SCORE</th>\n",
       "      <th>INSPECTION NO.</th>\n",
       "      <th>INSPECTION_TYPE</th>\n",
       "      <th>CRITICAL FLAG</th>\n",
       "      <th>CAMIS</th>\n",
       "    </tr>\n",
       "  </thead>\n",
       "  <tbody>\n",
       "    <tr>\n",
       "      <th>3015</th>\n",
       "      <td>NaN</td>\n",
       "      <td>MANHATTAN</td>\n",
       "      <td>10029.0</td>\n",
       "      <td>Other</td>\n",
       "      <td>1/1/1900</td>\n",
       "      <td>NaN</td>\n",
       "      <td>18.902485</td>\n",
       "      <td>NaN</td>\n",
       "      <td>Cycle Inspection</td>\n",
       "      <td>Not Applicable</td>\n",
       "      <td>73013663</td>\n",
       "    </tr>\n",
       "    <tr>\n",
       "      <th>4056</th>\n",
       "      <td>NaN</td>\n",
       "      <td>BRONX</td>\n",
       "      <td>10452.0</td>\n",
       "      <td>Other</td>\n",
       "      <td>1/1/1900</td>\n",
       "      <td>NaN</td>\n",
       "      <td>18.902485</td>\n",
       "      <td>NaN</td>\n",
       "      <td>Cycle Inspection</td>\n",
       "      <td>Not Applicable</td>\n",
       "      <td>41164983</td>\n",
       "    </tr>\n",
       "    <tr>\n",
       "      <th>4614</th>\n",
       "      <td>NaN</td>\n",
       "      <td>STATEN ISLAND</td>\n",
       "      <td>10314.0</td>\n",
       "      <td>Other</td>\n",
       "      <td>1/1/1900</td>\n",
       "      <td>NaN</td>\n",
       "      <td>18.902485</td>\n",
       "      <td>NaN</td>\n",
       "      <td>Cycle Inspection</td>\n",
       "      <td>Not Applicable</td>\n",
       "      <td>80553405</td>\n",
       "    </tr>\n",
       "    <tr>\n",
       "      <th>4722</th>\n",
       "      <td>NaN</td>\n",
       "      <td>MANHATTAN</td>\n",
       "      <td>10021.0</td>\n",
       "      <td>Other</td>\n",
       "      <td>1/1/1900</td>\n",
       "      <td>NaN</td>\n",
       "      <td>18.902485</td>\n",
       "      <td>NaN</td>\n",
       "      <td>Cycle Inspection</td>\n",
       "      <td>Not Applicable</td>\n",
       "      <td>19043173</td>\n",
       "    </tr>\n",
       "    <tr>\n",
       "      <th>6202</th>\n",
       "      <td>NaN</td>\n",
       "      <td>MANHATTAN</td>\n",
       "      <td>10034.0</td>\n",
       "      <td>Other</td>\n",
       "      <td>1/1/1900</td>\n",
       "      <td>NaN</td>\n",
       "      <td>18.902485</td>\n",
       "      <td>NaN</td>\n",
       "      <td>Cycle Inspection</td>\n",
       "      <td>Not Applicable</td>\n",
       "      <td>29939040</td>\n",
       "    </tr>\n",
       "  </tbody>\n",
       "</table>\n",
       "</div>"
      ],
      "text/plain": [
       "      DBA           BORO  ZIPCODE CUISINE DESCRIPTION INSPECTION DATE ACTION  \\\n",
       "3015  NaN      MANHATTAN  10029.0               Other        1/1/1900    NaN   \n",
       "4056  NaN          BRONX  10452.0               Other        1/1/1900    NaN   \n",
       "4614  NaN  STATEN ISLAND  10314.0               Other        1/1/1900    NaN   \n",
       "4722  NaN      MANHATTAN  10021.0               Other        1/1/1900    NaN   \n",
       "6202  NaN      MANHATTAN  10034.0               Other        1/1/1900    NaN   \n",
       "\n",
       "          SCORE INSPECTION NO.   INSPECTION_TYPE   CRITICAL FLAG     CAMIS  \n",
       "3015  18.902485            NaN  Cycle Inspection  Not Applicable  73013663  \n",
       "4056  18.902485            NaN  Cycle Inspection  Not Applicable  41164983  \n",
       "4614  18.902485            NaN  Cycle Inspection  Not Applicable  80553405  \n",
       "4722  18.902485            NaN  Cycle Inspection  Not Applicable  19043173  \n",
       "6202  18.902485            NaN  Cycle Inspection  Not Applicable  29939040  "
      ]
     },
     "execution_count": 265,
     "metadata": {},
     "output_type": "execute_result"
    }
   ],
   "source": [
    "data[data['DBA'].isnull()].head()"
   ]
  },
  {
   "cell_type": "code",
   "execution_count": 67,
   "metadata": {},
   "outputs": [],
   "source": [
    "data.drop(axis = 0,inplace = True,index=data[data['DBA'].isnull()].index)"
   ]
  },
  {
   "cell_type": "code",
   "execution_count": 68,
   "metadata": {},
   "outputs": [
    {
     "name": "stdout",
     "output_type": "stream",
     "text": [
      "Your selected dataframe has 11 columns.\n",
      "There are 2 columns that have missing values.\n"
     ]
    },
    {
     "data": {
      "text/html": [
       "<div>\n",
       "<style scoped>\n",
       "    .dataframe tbody tr th:only-of-type {\n",
       "        vertical-align: middle;\n",
       "    }\n",
       "\n",
       "    .dataframe tbody tr th {\n",
       "        vertical-align: top;\n",
       "    }\n",
       "\n",
       "    .dataframe thead th {\n",
       "        text-align: right;\n",
       "    }\n",
       "</style>\n",
       "<table border=\"1\" class=\"dataframe\">\n",
       "  <thead>\n",
       "    <tr style=\"text-align: right;\">\n",
       "      <th></th>\n",
       "      <th>Missing Values</th>\n",
       "      <th>% of Total Values</th>\n",
       "    </tr>\n",
       "  </thead>\n",
       "  <tbody>\n",
       "    <tr>\n",
       "      <th>ACTION</th>\n",
       "      <td>417</td>\n",
       "      <td>0.2</td>\n",
       "    </tr>\n",
       "    <tr>\n",
       "      <th>INSPECTION NO.</th>\n",
       "      <td>417</td>\n",
       "      <td>0.2</td>\n",
       "    </tr>\n",
       "  </tbody>\n",
       "</table>\n",
       "</div>"
      ],
      "text/plain": [
       "                Missing Values  % of Total Values\n",
       "ACTION                     417                0.2\n",
       "INSPECTION NO.             417                0.2"
      ]
     },
     "execution_count": 68,
     "metadata": {},
     "output_type": "execute_result"
    }
   ],
   "source": [
    "missing_values_table(data)"
   ]
  },
  {
   "cell_type": "code",
   "execution_count": 283,
   "metadata": {},
   "outputs": [
    {
     "data": {
      "text/html": [
       "<div>\n",
       "<style scoped>\n",
       "    .dataframe tbody tr th:only-of-type {\n",
       "        vertical-align: middle;\n",
       "    }\n",
       "\n",
       "    .dataframe tbody tr th {\n",
       "        vertical-align: top;\n",
       "    }\n",
       "\n",
       "    .dataframe thead th {\n",
       "        text-align: right;\n",
       "    }\n",
       "</style>\n",
       "<table border=\"1\" class=\"dataframe\">\n",
       "  <thead>\n",
       "    <tr style=\"text-align: right;\">\n",
       "      <th></th>\n",
       "      <th>DBA</th>\n",
       "      <th>BORO</th>\n",
       "      <th>ZIPCODE</th>\n",
       "      <th>CUISINE DESCRIPTION</th>\n",
       "      <th>INSPECTION DATE</th>\n",
       "      <th>ACTION</th>\n",
       "      <th>SCORE</th>\n",
       "      <th>INSPECTION NO.</th>\n",
       "      <th>INSPECTION_TYPE</th>\n",
       "      <th>CRITICAL FLAG</th>\n",
       "      <th>CAMIS</th>\n",
       "    </tr>\n",
       "  </thead>\n",
       "  <tbody>\n",
       "    <tr>\n",
       "      <th>444</th>\n",
       "      <td>MIGHTY QUINN'S BARBEQUE</td>\n",
       "      <td>MANHATTAN</td>\n",
       "      <td>10036.0</td>\n",
       "      <td>Other</td>\n",
       "      <td>1/1/1900</td>\n",
       "      <td>NaN</td>\n",
       "      <td>18.902485</td>\n",
       "      <td>NaN</td>\n",
       "      <td>Cycle Inspection</td>\n",
       "      <td>Not Applicable</td>\n",
       "      <td>83287556</td>\n",
       "    </tr>\n",
       "    <tr>\n",
       "      <th>759</th>\n",
       "      <td>FLORA</td>\n",
       "      <td>BROOKLYN</td>\n",
       "      <td>11215.0</td>\n",
       "      <td>Other</td>\n",
       "      <td>1/1/1900</td>\n",
       "      <td>NaN</td>\n",
       "      <td>18.902485</td>\n",
       "      <td>NaN</td>\n",
       "      <td>Cycle Inspection</td>\n",
       "      <td>Not Applicable</td>\n",
       "      <td>90022764</td>\n",
       "    </tr>\n",
       "    <tr>\n",
       "      <th>3110</th>\n",
       "      <td>INTREPID SEA AIR &amp; SPACE MUSEUM (WELCOME CENTER)</td>\n",
       "      <td>MANHATTAN</td>\n",
       "      <td>10036.0</td>\n",
       "      <td>American</td>\n",
       "      <td>1/1/1900</td>\n",
       "      <td>NaN</td>\n",
       "      <td>18.902485</td>\n",
       "      <td>NaN</td>\n",
       "      <td>Cycle Inspection</td>\n",
       "      <td>Not Applicable</td>\n",
       "      <td>23019929</td>\n",
       "    </tr>\n",
       "    <tr>\n",
       "      <th>5581</th>\n",
       "      <td>SUBWAY 22574</td>\n",
       "      <td>MANHATTAN</td>\n",
       "      <td>10018.0</td>\n",
       "      <td>Other</td>\n",
       "      <td>1/1/1900</td>\n",
       "      <td>NaN</td>\n",
       "      <td>18.902485</td>\n",
       "      <td>NaN</td>\n",
       "      <td>Cycle Inspection</td>\n",
       "      <td>Not Applicable</td>\n",
       "      <td>29132595</td>\n",
       "    </tr>\n",
       "    <tr>\n",
       "      <th>6020</th>\n",
       "      <td>THE DUMPLING SHOP</td>\n",
       "      <td>BRONX</td>\n",
       "      <td>10469.0</td>\n",
       "      <td>Other</td>\n",
       "      <td>1/1/1900</td>\n",
       "      <td>NaN</td>\n",
       "      <td>18.902485</td>\n",
       "      <td>NaN</td>\n",
       "      <td>Cycle Inspection</td>\n",
       "      <td>Not Applicable</td>\n",
       "      <td>57000466</td>\n",
       "    </tr>\n",
       "  </tbody>\n",
       "</table>\n",
       "</div>"
      ],
      "text/plain": [
       "                                                   DBA       BORO  ZIPCODE  \\\n",
       "444                            MIGHTY QUINN'S BARBEQUE  MANHATTAN  10036.0   \n",
       "759                                              FLORA   BROOKLYN  11215.0   \n",
       "3110  INTREPID SEA AIR & SPACE MUSEUM (WELCOME CENTER)  MANHATTAN  10036.0   \n",
       "5581                                      SUBWAY 22574  MANHATTAN  10018.0   \n",
       "6020                                 THE DUMPLING SHOP      BRONX  10469.0   \n",
       "\n",
       "     CUISINE DESCRIPTION INSPECTION DATE ACTION      SCORE INSPECTION NO.  \\\n",
       "444                Other        1/1/1900    NaN  18.902485            NaN   \n",
       "759                Other        1/1/1900    NaN  18.902485            NaN   \n",
       "3110            American        1/1/1900    NaN  18.902485            NaN   \n",
       "5581               Other        1/1/1900    NaN  18.902485            NaN   \n",
       "6020               Other        1/1/1900    NaN  18.902485            NaN   \n",
       "\n",
       "       INSPECTION_TYPE   CRITICAL FLAG     CAMIS  \n",
       "444   Cycle Inspection  Not Applicable  83287556  \n",
       "759   Cycle Inspection  Not Applicable  90022764  \n",
       "3110  Cycle Inspection  Not Applicable  23019929  \n",
       "5581  Cycle Inspection  Not Applicable  29132595  \n",
       "6020  Cycle Inspection  Not Applicable  57000466  "
      ]
     },
     "execution_count": 283,
     "metadata": {},
     "output_type": "execute_result"
    }
   ],
   "source": [
    "data[data['ACTION'].isnull()].head()"
   ]
  },
  {
   "cell_type": "code",
   "execution_count": 73,
   "metadata": {},
   "outputs": [],
   "source": [
    "data['ACTION'].replace(np.nan,data['ACTION'].mode()[0],inplace = True)\n",
    "data['INSPECTION NO.'].replace(np.nan,data['INSPECTION NO.'].mode()[0],inplace = True)\n",
    "#data['INSPECTION NO.'].mode()[0]"
   ]
  },
  {
   "cell_type": "code",
   "execution_count": 74,
   "metadata": {},
   "outputs": [
    {
     "name": "stdout",
     "output_type": "stream",
     "text": [
      "Your selected dataframe has 11 columns.\n",
      "There are 0 columns that have missing values.\n"
     ]
    },
    {
     "data": {
      "text/html": [
       "<div>\n",
       "<style scoped>\n",
       "    .dataframe tbody tr th:only-of-type {\n",
       "        vertical-align: middle;\n",
       "    }\n",
       "\n",
       "    .dataframe tbody tr th {\n",
       "        vertical-align: top;\n",
       "    }\n",
       "\n",
       "    .dataframe thead th {\n",
       "        text-align: right;\n",
       "    }\n",
       "</style>\n",
       "<table border=\"1\" class=\"dataframe\">\n",
       "  <thead>\n",
       "    <tr style=\"text-align: right;\">\n",
       "      <th></th>\n",
       "      <th>Missing Values</th>\n",
       "      <th>% of Total Values</th>\n",
       "    </tr>\n",
       "  </thead>\n",
       "  <tbody>\n",
       "  </tbody>\n",
       "</table>\n",
       "</div>"
      ],
      "text/plain": [
       "Empty DataFrame\n",
       "Columns: [Missing Values, % of Total Values]\n",
       "Index: []"
      ]
     },
     "execution_count": 74,
     "metadata": {},
     "output_type": "execute_result"
    }
   ],
   "source": [
    "missing_values_table(data)"
   ]
  },
  {
   "cell_type": "code",
   "execution_count": 27,
   "metadata": {},
   "outputs": [
    {
     "name": "stdout",
     "output_type": "stream",
     "text": [
      "<class 'pandas.core.frame.DataFrame'>\n",
      "Int64Index: 215759 entries, 0 to 215954\n",
      "Data columns (total 11 columns):\n",
      "DBA                    215759 non-null object\n",
      "BORO                   215759 non-null object\n",
      "ZIPCODE                215759 non-null float64\n",
      "CUISINE DESCRIPTION    215759 non-null object\n",
      "INSPECTION DATE        215759 non-null object\n",
      "ACTION                 215759 non-null object\n",
      "SCORE                  215759 non-null float64\n",
      "INSPECTION NO.         215759 non-null object\n",
      "INSPECTION_TYPE        215759 non-null object\n",
      "CRITICAL FLAG          215759 non-null object\n",
      "CAMIS                  215759 non-null int64\n",
      "dtypes: float64(2), int64(1), object(8)\n",
      "memory usage: 29.8+ MB\n"
     ]
    }
   ],
   "source": [
    "data.info()"
   ]
  },
  {
   "cell_type": "code",
   "execution_count": 28,
   "metadata": {},
   "outputs": [
    {
     "data": {
      "text/html": [
       "<div>\n",
       "<style scoped>\n",
       "    .dataframe tbody tr th:only-of-type {\n",
       "        vertical-align: middle;\n",
       "    }\n",
       "\n",
       "    .dataframe tbody tr th {\n",
       "        vertical-align: top;\n",
       "    }\n",
       "\n",
       "    .dataframe thead th {\n",
       "        text-align: right;\n",
       "    }\n",
       "</style>\n",
       "<table border=\"1\" class=\"dataframe\">\n",
       "  <thead>\n",
       "    <tr style=\"text-align: right;\">\n",
       "      <th></th>\n",
       "      <th>DBA</th>\n",
       "      <th>BORO</th>\n",
       "      <th>ZIPCODE</th>\n",
       "      <th>CUISINE DESCRIPTION</th>\n",
       "      <th>INSPECTION DATE</th>\n",
       "      <th>ACTION</th>\n",
       "      <th>SCORE</th>\n",
       "      <th>INSPECTION NO.</th>\n",
       "      <th>INSPECTION_TYPE</th>\n",
       "      <th>CRITICAL FLAG</th>\n",
       "      <th>CAMIS</th>\n",
       "    </tr>\n",
       "  </thead>\n",
       "  <tbody>\n",
       "    <tr>\n",
       "      <th>0</th>\n",
       "      <td>TACOSSSSSSS</td>\n",
       "      <td>BROOKLYN</td>\n",
       "      <td>11208.0</td>\n",
       "      <td>Mexican</td>\n",
       "      <td>6/8/2016</td>\n",
       "      <td>Violations were cited in the following area(s).</td>\n",
       "      <td>89.0</td>\n",
       "      <td>Initial Inspection</td>\n",
       "      <td>Pre-permit (Non-operational)</td>\n",
       "      <td>Critical</td>\n",
       "      <td>86566813</td>\n",
       "    </tr>\n",
       "    <tr>\n",
       "      <th>1</th>\n",
       "      <td>SPOLINI'S</td>\n",
       "      <td>QUEENS</td>\n",
       "      <td>11418.0</td>\n",
       "      <td>Italian</td>\n",
       "      <td>2/18/2016</td>\n",
       "      <td>Violations were cited in the following area(s).</td>\n",
       "      <td>23.0</td>\n",
       "      <td>Initial Inspection</td>\n",
       "      <td>Cycle Inspection</td>\n",
       "      <td>Critical</td>\n",
       "      <td>84913823</td>\n",
       "    </tr>\n",
       "    <tr>\n",
       "      <th>2</th>\n",
       "      <td>EL DORADO CAFE</td>\n",
       "      <td>QUEENS</td>\n",
       "      <td>11368.0</td>\n",
       "      <td>Latin (Cuban, Dominican, Puerto Rican, South &amp;...</td>\n",
       "      <td>3/4/2015</td>\n",
       "      <td>Violations were cited in the following area(s).</td>\n",
       "      <td>7.0</td>\n",
       "      <td>Initial Inspection</td>\n",
       "      <td>Cycle Inspection</td>\n",
       "      <td>Critical</td>\n",
       "      <td>70749585</td>\n",
       "    </tr>\n",
       "    <tr>\n",
       "      <th>3</th>\n",
       "      <td>SANREMO PIZZA</td>\n",
       "      <td>QUEENS</td>\n",
       "      <td>11385.0</td>\n",
       "      <td>Pizza</td>\n",
       "      <td>12/4/2014</td>\n",
       "      <td>Violations were cited in the following area(s).</td>\n",
       "      <td>12.0</td>\n",
       "      <td>Initial Inspection</td>\n",
       "      <td>Cycle Inspection</td>\n",
       "      <td>Critical</td>\n",
       "      <td>59396548</td>\n",
       "    </tr>\n",
       "    <tr>\n",
       "      <th>4</th>\n",
       "      <td>95 SOUTH</td>\n",
       "      <td>BROOKLYN</td>\n",
       "      <td>11238.0</td>\n",
       "      <td>American</td>\n",
       "      <td>6/3/2017</td>\n",
       "      <td>Violations were cited in the following area(s).</td>\n",
       "      <td>11.0</td>\n",
       "      <td>Initial Inspection</td>\n",
       "      <td>Inter-Agency Task Force</td>\n",
       "      <td>Not Critical</td>\n",
       "      <td>79915156</td>\n",
       "    </tr>\n",
       "  </tbody>\n",
       "</table>\n",
       "</div>"
      ],
      "text/plain": [
       "              DBA      BORO  ZIPCODE  \\\n",
       "0     TACOSSSSSSS  BROOKLYN  11208.0   \n",
       "1       SPOLINI'S    QUEENS  11418.0   \n",
       "2  EL DORADO CAFE    QUEENS  11368.0   \n",
       "3   SANREMO PIZZA    QUEENS  11385.0   \n",
       "4        95 SOUTH  BROOKLYN  11238.0   \n",
       "\n",
       "                                 CUISINE DESCRIPTION INSPECTION DATE  \\\n",
       "0                                            Mexican        6/8/2016   \n",
       "1                                            Italian       2/18/2016   \n",
       "2  Latin (Cuban, Dominican, Puerto Rican, South &...        3/4/2015   \n",
       "3                                              Pizza       12/4/2014   \n",
       "4                                           American        6/3/2017   \n",
       "\n",
       "                                            ACTION  SCORE  \\\n",
       "0  Violations were cited in the following area(s).   89.0   \n",
       "1  Violations were cited in the following area(s).   23.0   \n",
       "2  Violations were cited in the following area(s).    7.0   \n",
       "3  Violations were cited in the following area(s).   12.0   \n",
       "4  Violations were cited in the following area(s).   11.0   \n",
       "\n",
       "        INSPECTION NO.                INSPECTION_TYPE CRITICAL FLAG     CAMIS  \n",
       "0   Initial Inspection  Pre-permit (Non-operational)       Critical  86566813  \n",
       "1   Initial Inspection              Cycle Inspection       Critical  84913823  \n",
       "2   Initial Inspection              Cycle Inspection       Critical  70749585  \n",
       "3   Initial Inspection              Cycle Inspection       Critical  59396548  \n",
       "4   Initial Inspection       Inter-Agency Task Force   Not Critical  79915156  "
      ]
     },
     "execution_count": 28,
     "metadata": {},
     "output_type": "execute_result"
    }
   ],
   "source": [
    "data.head()"
   ]
  },
  {
   "cell_type": "code",
   "execution_count": 75,
   "metadata": {},
   "outputs": [],
   "source": [
    "X = data.loc[:, data.columns != 'CRITICAL FLAG']\n",
    "Y = data['CRITICAL FLAG']\n"
   ]
  },
  {
   "cell_type": "code",
   "execution_count": 38,
   "metadata": {},
   "outputs": [
    {
     "data": {
      "text/plain": [
       "0        Critical\n",
       "1        Critical\n",
       "2        Critical\n",
       "3        Critical\n",
       "4    Not Critical\n",
       "Name: CRITICAL FLAG, dtype: object"
      ]
     },
     "execution_count": 38,
     "metadata": {},
     "output_type": "execute_result"
    }
   ],
   "source": [
    "X.head()\n",
    "Y.head()"
   ]
  },
  {
   "cell_type": "code",
   "execution_count": 76,
   "metadata": {},
   "outputs": [
    {
     "name": "stdout",
     "output_type": "stream",
     "text": [
      "(215759, 10) (215759,)\n"
     ]
    }
   ],
   "source": [
    "print(X.shape,Y.shape)"
   ]
  },
  {
   "cell_type": "code",
   "execution_count": 79,
   "metadata": {},
   "outputs": [],
   "source": [
    "#creating testing and training set\n",
    "\n",
    "X_train, X_test, Y_train, Y_test = train_test_split(X, Y, test_size =0.2,stratify = Y)"
   ]
  },
  {
   "cell_type": "code",
   "execution_count": 80,
   "metadata": {},
   "outputs": [
    {
     "name": "stdout",
     "output_type": "stream",
     "text": [
      "(172607, 10) (43152, 10)\n",
      "(172607,) (43152,)\n"
     ]
    }
   ],
   "source": [
    "print(X_train.shape, X_test.shape)\n",
    "print(Y_train.shape, Y_test.shape)"
   ]
  },
  {
   "cell_type": "markdown",
   "metadata": {},
   "source": [
    "Data Transformation\n"
   ]
  },
  {
   "cell_type": "code",
   "execution_count": null,
   "metadata": {},
   "outputs": [],
   "source": []
  }
 ],
 "metadata": {
  "kernelspec": {
   "display_name": "Python 3",
   "language": "python",
   "name": "python3"
  },
  "language_info": {
   "codemirror_mode": {
    "name": "ipython",
    "version": 3
   },
   "file_extension": ".py",
   "mimetype": "text/x-python",
   "name": "python",
   "nbconvert_exporter": "python",
   "pygments_lexer": "ipython3",
   "version": "3.6.3"
  }
 },
 "nbformat": 4,
 "nbformat_minor": 2
}
